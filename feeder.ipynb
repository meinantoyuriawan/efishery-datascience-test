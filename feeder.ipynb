{
 "cells": [
  {
   "cell_type": "markdown",
   "id": "a9618135",
   "metadata": {},
   "source": [
    "# Feeder"
   ]
  },
  {
   "cell_type": "markdown",
   "id": "c0179429",
   "metadata": {},
   "source": [
    "Technical Test - Data Science Engineer For eFishery"
   ]
  },
  {
   "cell_type": "markdown",
   "id": "0b7d45b7",
   "metadata": {},
   "source": [
    "let's see the sample data"
   ]
  },
  {
   "cell_type": "code",
   "execution_count": 1,
   "id": "f16f91c5",
   "metadata": {},
   "outputs": [],
   "source": [
    "import pandas as pd\n",
    "import numpy as np\n",
    "import os\n",
    "import datetime\n",
    "import matplotlib.pyplot as plt\n",
    "import matplotlib.dates as dt"
   ]
  },
  {
   "cell_type": "code",
   "execution_count": 2,
   "id": "2380cdd0",
   "metadata": {},
   "outputs": [],
   "source": [
    "directory = os.getcwd()"
   ]
  },
  {
   "cell_type": "code",
   "execution_count": 3,
   "id": "f87325f0",
   "metadata": {},
   "outputs": [],
   "source": [
    "file = directory + \"/dataset/dataset/051.xlsx\"\n",
    "df = pd.read_excel(file, index_col=None)"
   ]
  },
  {
   "cell_type": "code",
   "execution_count": 4,
   "id": "680c69a0",
   "metadata": {},
   "outputs": [
    {
     "name": "stdout",
     "output_type": "stream",
     "text": [
      "<class 'pandas.core.frame.DataFrame'>\n",
      "RangeIndex: 5200 entries, 0 to 5199\n",
      "Data columns (total 5 columns):\n",
      " #   Column     Non-Null Count  Dtype\n",
      "---  ------     --------------  -----\n",
      " 0   timestamp  5200 non-null   int64\n",
      " 1   x          5200 non-null   int64\n",
      " 2   y          5200 non-null   int64\n",
      " 3   z          5200 non-null   int64\n",
      " 4   label      5200 non-null   int64\n",
      "dtypes: int64(5)\n",
      "memory usage: 203.2 KB\n"
     ]
    }
   ],
   "source": [
    "df.info()"
   ]
  },
  {
   "cell_type": "code",
   "execution_count": 5,
   "id": "e3a7f452",
   "metadata": {},
   "outputs": [
    {
     "data": {
      "text/html": [
       "<div>\n",
       "<style scoped>\n",
       "    .dataframe tbody tr th:only-of-type {\n",
       "        vertical-align: middle;\n",
       "    }\n",
       "\n",
       "    .dataframe tbody tr th {\n",
       "        vertical-align: top;\n",
       "    }\n",
       "\n",
       "    .dataframe thead th {\n",
       "        text-align: right;\n",
       "    }\n",
       "</style>\n",
       "<table border=\"1\" class=\"dataframe\">\n",
       "  <thead>\n",
       "    <tr style=\"text-align: right;\">\n",
       "      <th></th>\n",
       "      <th>timestamp</th>\n",
       "      <th>x</th>\n",
       "      <th>y</th>\n",
       "      <th>z</th>\n",
       "      <th>label</th>\n",
       "    </tr>\n",
       "  </thead>\n",
       "  <tbody>\n",
       "    <tr>\n",
       "      <th>0</th>\n",
       "      <td>1657093314320</td>\n",
       "      <td>3</td>\n",
       "      <td>239</td>\n",
       "      <td>34</td>\n",
       "      <td>1</td>\n",
       "    </tr>\n",
       "    <tr>\n",
       "      <th>1</th>\n",
       "      <td>1657093314360</td>\n",
       "      <td>9</td>\n",
       "      <td>247</td>\n",
       "      <td>30</td>\n",
       "      <td>1</td>\n",
       "    </tr>\n",
       "    <tr>\n",
       "      <th>2</th>\n",
       "      <td>1657093314400</td>\n",
       "      <td>8</td>\n",
       "      <td>252</td>\n",
       "      <td>31</td>\n",
       "      <td>1</td>\n",
       "    </tr>\n",
       "    <tr>\n",
       "      <th>3</th>\n",
       "      <td>1657093314440</td>\n",
       "      <td>0</td>\n",
       "      <td>255</td>\n",
       "      <td>37</td>\n",
       "      <td>1</td>\n",
       "    </tr>\n",
       "    <tr>\n",
       "      <th>4</th>\n",
       "      <td>1657093314480</td>\n",
       "      <td>-12</td>\n",
       "      <td>252</td>\n",
       "      <td>39</td>\n",
       "      <td>1</td>\n",
       "    </tr>\n",
       "    <tr>\n",
       "      <th>...</th>\n",
       "      <td>...</td>\n",
       "      <td>...</td>\n",
       "      <td>...</td>\n",
       "      <td>...</td>\n",
       "      <td>...</td>\n",
       "    </tr>\n",
       "    <tr>\n",
       "      <th>5195</th>\n",
       "      <td>1657093522120</td>\n",
       "      <td>1</td>\n",
       "      <td>248</td>\n",
       "      <td>38</td>\n",
       "      <td>0</td>\n",
       "    </tr>\n",
       "    <tr>\n",
       "      <th>5196</th>\n",
       "      <td>1657093522160</td>\n",
       "      <td>0</td>\n",
       "      <td>248</td>\n",
       "      <td>37</td>\n",
       "      <td>0</td>\n",
       "    </tr>\n",
       "    <tr>\n",
       "      <th>5197</th>\n",
       "      <td>1657093522200</td>\n",
       "      <td>-1</td>\n",
       "      <td>248</td>\n",
       "      <td>38</td>\n",
       "      <td>0</td>\n",
       "    </tr>\n",
       "    <tr>\n",
       "      <th>5198</th>\n",
       "      <td>1657093522240</td>\n",
       "      <td>-2</td>\n",
       "      <td>248</td>\n",
       "      <td>37</td>\n",
       "      <td>0</td>\n",
       "    </tr>\n",
       "    <tr>\n",
       "      <th>5199</th>\n",
       "      <td>1657093522280</td>\n",
       "      <td>0</td>\n",
       "      <td>250</td>\n",
       "      <td>37</td>\n",
       "      <td>0</td>\n",
       "    </tr>\n",
       "  </tbody>\n",
       "</table>\n",
       "<p>5200 rows × 5 columns</p>\n",
       "</div>"
      ],
      "text/plain": [
       "          timestamp   x    y   z  label\n",
       "0     1657093314320   3  239  34      1\n",
       "1     1657093314360   9  247  30      1\n",
       "2     1657093314400   8  252  31      1\n",
       "3     1657093314440   0  255  37      1\n",
       "4     1657093314480 -12  252  39      1\n",
       "...             ...  ..  ...  ..    ...\n",
       "5195  1657093522120   1  248  38      0\n",
       "5196  1657093522160   0  248  37      0\n",
       "5197  1657093522200  -1  248  38      0\n",
       "5198  1657093522240  -2  248  37      0\n",
       "5199  1657093522280   0  250  37      0\n",
       "\n",
       "[5200 rows x 5 columns]"
      ]
     },
     "execution_count": 5,
     "metadata": {},
     "output_type": "execute_result"
    }
   ],
   "source": [
    "df"
   ]
  },
  {
   "cell_type": "markdown",
   "id": "f9869b4a",
   "metadata": {},
   "source": [
    "### 1. Cara mengetahui durasi makan ikan"
   ]
  },
  {
   "cell_type": "markdown",
   "id": "f7a46ae3",
   "metadata": {},
   "source": [
    "Dilihat dari interval antara timestamp dimana terjadi perubahan nilai kelas dari 1 ke 0 yaitu saat ikan sedang makan hingga timestamp ikan sedang tidak makan."
   ]
  },
  {
   "cell_type": "markdown",
   "id": "e54c5a6b",
   "metadata": {},
   "source": [
    "Lalu inisiasi fungsi yang dapat menunjukan kapan terjadi perubahan label. Pertama di inisiasikan terlebih dahulu status mulai dari data, jika di timestamp paling pertama label bernilai 0 maka keadaan ikan sedang tidak makan, namun jika di timestamp paling pertama label bernilai 1 maka keadaan ikan sedang makan. Lalu fungsi yang dibuat akan mendeteksi perubahan label dan menandakan perubahan status dimana jika dari 0 ke 1 berarti ikan mulai makan dan 1 ke 0 berarti ikan berhenti makan. Berikut fungsi dari durasiMakan():"
   ]
  },
  {
   "cell_type": "code",
   "execution_count": 6,
   "id": "7d9791c1",
   "metadata": {},
   "outputs": [],
   "source": [
    "def msToHMS(milis):\n",
    "    seconds=int(milis/1000)%60\n",
    "    minutes=int(milis/(1000*60))%60\n",
    "    hours=int(milis/(1000*60*60))%24\n",
    "    mil = milis%1000\n",
    "    res = str(hours) + ':' + str(minutes) + ':' + str(seconds) + '.' + str(mil)\n",
    "    return res\n",
    "\n",
    "def durasiMakan():\n",
    "    # check starting value\n",
    "    curr = df['label'][0]\n",
    "    dur = df['timestamp'][0]\n",
    "    if curr == 1:\n",
    "        timestamp = datetime.datetime.fromtimestamp((df['timestamp'][0]) / 1000) \n",
    "        print('start eating at :', timestamp.strftime(\"%X.%f\")[:-3])\n",
    "    else :\n",
    "        timestamp = datetime.datetime.fromtimestamp((df['timestamp'][0]) / 1000) \n",
    "        print('last eating at :', timestamp.strftime(\"%X.%f\")[:-3])\n",
    "        \n",
    "    # looping through data, check if there is a change in trend in label\n",
    "    for i in df.index:\n",
    "        if df['label'][i] != curr:\n",
    "            curr = df['label'][i]\n",
    "            if curr == 0:\n",
    "                timestamp = datetime.datetime.fromtimestamp((df['timestamp'][i]) / 1000) \n",
    "                print('stop eating at :', timestamp.strftime(\"%X.%f\")[:-3])\n",
    "                durasi = msToHMS(df['timestamp'][i]-dur)\n",
    "                print(\"durasi makan :\", durasi, \"\\n\")\n",
    "#                 print(\"\\n\")\n",
    "            else:\n",
    "                durasi = msToHMS(df['timestamp'][i]-dur)\n",
    "                print(\"durasi berhenti :\", durasi)\n",
    "                timestamp = datetime.datetime.fromtimestamp((df['timestamp'][i]) / 1000) \n",
    "                print('start eating at :', timestamp.strftime(\"%X.%f\")[:-3])\n",
    "            dur = df['timestamp'][i]"
   ]
  },
  {
   "cell_type": "code",
   "execution_count": 7,
   "id": "49cbc0e4",
   "metadata": {},
   "outputs": [
    {
     "name": "stdout",
     "output_type": "stream",
     "text": [
      "start eating at : 14:41:54.320\n",
      "stop eating at : 14:43:38.320\n",
      "durasi makan : 0:1:44.0 \n",
      "\n"
     ]
    }
   ],
   "source": [
    "durasiMakan()"
   ]
  },
  {
   "cell_type": "markdown",
   "id": "42f795d1",
   "metadata": {},
   "source": [
    "Dari keluaran fungsi tersebut dapat dilihat bahwa status dari ikan dimulai dari makan, ditandai dengan label bernilai 1. Saat ada perubahan nilai label yaitu berubah menjadi 0, fungsi akan mengeluarkan pesan berhenti makan dan durasi dari makan ikan."
   ]
  },
  {
   "cell_type": "markdown",
   "id": "d8f2384a",
   "metadata": {},
   "source": [
    "### 2. Jadwal feeding"
   ]
  },
  {
   "cell_type": "markdown",
   "id": "454f56ed",
   "metadata": {},
   "source": [
    "karena data yang terdapat di dataset tersebar menjadi beberapa file, lebih baik dilakukan penyatuan data terlebih dahulu berdasarkan urutan timestamp dan dilakukan analisis"
   ]
  },
  {
   "cell_type": "code",
   "execution_count": 8,
   "id": "85f3a847",
   "metadata": {},
   "outputs": [],
   "source": [
    "file1 = directory + \"/dataset/dataset/051.xlsx\"\n",
    "file2 = directory + \"/dataset/dataset/101.xlsx\"\n",
    "file3 = directory + \"/dataset/dataset/102.xlsx\"\n",
    "file4 = directory + \"/dataset/dataset/103.xlsx\"\n",
    "file5 = directory + \"/dataset/dataset/161.xlsx\"\n",
    "file6 = directory + \"/dataset/dataset/162.xlsx\"\n",
    "file7 = directory + \"/dataset/dataset/163.xlsx\""
   ]
  },
  {
   "cell_type": "code",
   "execution_count": 9,
   "id": "761fd584",
   "metadata": {},
   "outputs": [],
   "source": [
    "df1 = pd.read_excel(file1, index_col=None)\n",
    "df2 = pd.read_excel(file2, index_col=None)\n",
    "df3 = pd.read_excel(file3, index_col=None)\n",
    "df4 = pd.read_excel(file4, index_col=None)\n",
    "df5 = pd.read_excel(file5, index_col=None)\n",
    "df6 = pd.read_excel(file6, index_col=None)\n",
    "df7 = pd.read_excel(file7, index_col=None)"
   ]
  },
  {
   "cell_type": "markdown",
   "id": "e20d8344",
   "metadata": {},
   "source": [
    "dilakukan penggabungan dan pengurutan dari data berdasarkan timestamp"
   ]
  },
  {
   "cell_type": "code",
   "execution_count": 10,
   "id": "7eec46f2",
   "metadata": {},
   "outputs": [],
   "source": [
    "df = pd.merge_ordered(df1,df2,fill_method='ffill')\n",
    "df = pd.merge_ordered(df,df3,fill_method='ffill')\n",
    "df = pd.merge_ordered(df,df4,fill_method='ffill')\n",
    "df = pd.merge_ordered(df,df5,fill_method='ffill')\n",
    "df = pd.merge_ordered(df,df6,fill_method='ffill')\n",
    "df = pd.merge_ordered(df,df7,fill_method='ffill')"
   ]
  },
  {
   "cell_type": "code",
   "execution_count": 11,
   "id": "c1caa98f",
   "metadata": {},
   "outputs": [
    {
     "name": "stdout",
     "output_type": "stream",
     "text": [
      "<class 'pandas.core.frame.DataFrame'>\n",
      "RangeIndex: 28392 entries, 0 to 28391\n",
      "Data columns (total 5 columns):\n",
      " #   Column     Non-Null Count  Dtype\n",
      "---  ------     --------------  -----\n",
      " 0   timestamp  28392 non-null  int64\n",
      " 1   x          28392 non-null  int64\n",
      " 2   y          28392 non-null  int64\n",
      " 3   z          28392 non-null  int64\n",
      " 4   label      28392 non-null  int64\n",
      "dtypes: int64(5)\n",
      "memory usage: 1.1 MB\n"
     ]
    }
   ],
   "source": [
    "df.info()"
   ]
  },
  {
   "cell_type": "markdown",
   "id": "fccc7127",
   "metadata": {},
   "source": [
    "data yang diperoleh tidak memiliki nilai kosong. Untuk mengecek apakah antara data timestampnya padu, dilakukan dengan cara berikut"
   ]
  },
  {
   "cell_type": "code",
   "execution_count": 12,
   "id": "40426276",
   "metadata": {},
   "outputs": [],
   "source": [
    "# check if the data is incrementally correct (every 40ms)\n",
    "for i in range(len(df)-1):\n",
    "    if df[\"timestamp\"][i+1] != (df[\"timestamp\"][i] + 40):\n",
    "        print('missing data at',i)"
   ]
  },
  {
   "cell_type": "markdown",
   "id": "d73ae9a5",
   "metadata": {},
   "source": [
    "tidak ada keluaran sehingga bisa disimpulkan timestamp data padu"
   ]
  },
  {
   "cell_type": "markdown",
   "id": "b1485e44",
   "metadata": {},
   "source": [
    "mari kita visualisasikan data yang sudah digabungkan"
   ]
  },
  {
   "cell_type": "markdown",
   "id": "c065e39d",
   "metadata": {},
   "source": [
    "script untuk menunjukan data dalam bentuk jam menit detik"
   ]
  },
  {
   "cell_type": "code",
   "execution_count": 13,
   "id": "6770bc24",
   "metadata": {},
   "outputs": [],
   "source": [
    "lst = []\n",
    "\n",
    "for i in df.index:\n",
    "    timestamp = datetime.datetime.fromtimestamp((df['timestamp'][i]) / 1000) \n",
    "#     print('stop eating at', )\n",
    "    val = timestamp.strftime(\"%X.%f\")[:-3]\n",
    "    lst.append(val)\n",
    "df_temp = pd.DataFrame(lst)\n",
    "df ['hms'] = df_temp\n",
    "time = dt.datestr2num(df['hms'])"
   ]
  },
  {
   "cell_type": "code",
   "execution_count": 14,
   "id": "aebb7a74",
   "metadata": {},
   "outputs": [
    {
     "data": {
      "image/png": "[encoded data removed]",
      "text/plain": [
       "<Figure size 1600x800 with 1 Axes>"
      ]
     },
     "metadata": {},
     "output_type": "display_data"
    }
   ],
   "source": [
    "plt.figure(figsize=(16, 8))\n",
    "\n",
    "plt.plot(time, df['label'])\n",
    "plt.gca().xaxis.set_major_formatter(dt.DateFormatter(\"%X.%f\"))\n",
    "# naming the x axis\n",
    "plt.xlabel('timestamp')\n",
    "# naming the y axis\n",
    "plt.ylabel('label')\n",
    "  \n",
    "# function to show the plot\n",
    "plt.show()"
   ]
  },
  {
   "cell_type": "markdown",
   "id": "327e5d30",
   "metadata": {},
   "source": [
    "visualisasi data diatas dapat menunjukan timestamp makan dari ikan dengan melihat interval kurun waktu label bernilai 0 dan 1"
   ]
  },
  {
   "cell_type": "markdown",
   "id": "8dc1f477",
   "metadata": {},
   "source": [
    "dari fungsi yang sudah diinisiasikan sebelumnya, sekarang kita dapat melihat durasi makan ikan dan jadwal feeding dari keseluruhan data"
   ]
  },
  {
   "cell_type": "code",
   "execution_count": 15,
   "id": "ba5aa433",
   "metadata": {},
   "outputs": [
    {
     "name": "stdout",
     "output_type": "stream",
     "text": [
      "start eating at : 14:40:02.000\n",
      "stop eating at : 14:40:58.160\n",
      "durasi makan : 0:0:56.160 \n",
      "\n",
      "durasi berhenti : 0:0:56.160\n",
      "start eating at : 14:41:54.320\n",
      "stop eating at : 14:43:38.320\n",
      "durasi makan : 0:1:44.0 \n",
      "\n",
      "durasi berhenti : 0:1:44.0\n",
      "start eating at : 14:45:22.320\n",
      "stop eating at : 14:46:20.560\n",
      "durasi makan : 0:0:58.240 \n",
      "\n",
      "durasi berhenti : 0:0:58.240\n",
      "start eating at : 14:47:18.800\n",
      "stop eating at : 14:48:31.600\n",
      "durasi makan : 0:1:12.800 \n",
      "\n",
      "durasi berhenti : 0:1:12.800\n",
      "start eating at : 14:49:44.400\n",
      "stop eating at : 14:51:34.640\n",
      "durasi makan : 0:1:50.240 \n",
      "\n",
      "durasi berhenti : 0:1:50.240\n",
      "start eating at : 14:53:24.880\n",
      "stop eating at : 14:54:39.760\n",
      "durasi makan : 0:1:14.880 \n",
      "\n",
      "durasi berhenti : 0:1:14.880\n",
      "start eating at : 14:55:54.640\n",
      "stop eating at : 14:57:26.160\n",
      "durasi makan : 0:1:31.520 \n",
      "\n"
     ]
    }
   ],
   "source": [
    "# melihat durasi makan\n",
    "durasiMakan()"
   ]
  },
  {
   "cell_type": "markdown",
   "id": "ab44ec0d",
   "metadata": {},
   "source": [
    "dari keluaran fungsi durasiMakan() dapat dilihat data durasi makan, start makan dan stop makan untuk menentukan jadwal feeding dari ikan. Data diatas menunjukan bahwa ikan biasa makan di durasi 56 detik hingga 1 menit 50 detik. Salah satu pola yang dapat dilihat bahwa durasi makan ikan akan sama dengan durasi berhenti makan dari ikan, jika ikan makan dalam waktu 56 detik 160 mili sekon maka ikan akan berhenti makan selama 56 detik 160 mili sekon sebelum memulai kembali makan."
   ]
  },
  {
   "cell_type": "markdown",
   "id": "a3d432d4",
   "metadata": {},
   "source": [
    "Untuk 17 menit 24 detik 160 mli sekon, ikan makan sebanyak 7 kali. Jika diberikan pakan 5kg untuk tiap event makan maka dibutuhkan 35kg pakan untuk durasi waktu tersebut"
   ]
  },
  {
   "cell_type": "markdown",
   "id": "bd5b0b8e",
   "metadata": {},
   "source": [
    "Untuk memprediksi jadwal feeding berikutnya, data dari akselerometer dapat digunakan. Dengan melihat trend dari akselerasi tiap axis"
   ]
  },
  {
   "cell_type": "markdown",
   "id": "4302e1fd",
   "metadata": {},
   "source": [
    "## 3. Prediksi makan ikan"
   ]
  },
  {
   "cell_type": "markdown",
   "id": "9a92c9e4",
   "metadata": {},
   "source": [
    "Dari data yang sudah diperoleh dan dijabarkan sebelumnya, kita dapat melihat besar akselerasi tiap axis dengan waktu. Berikut merupakan visualisasi dari data tersebut untuk 3 axis"
   ]
  },
  {
   "cell_type": "code",
   "execution_count": 16,
   "id": "01d96f64",
   "metadata": {},
   "outputs": [
    {
     "data": {
      "text/html": [
       "<div>\n",
       "<style scoped>\n",
       "    .dataframe tbody tr th:only-of-type {\n",
       "        vertical-align: middle;\n",
       "    }\n",
       "\n",
       "    .dataframe tbody tr th {\n",
       "        vertical-align: top;\n",
       "    }\n",
       "\n",
       "    .dataframe thead th {\n",
       "        text-align: right;\n",
       "    }\n",
       "</style>\n",
       "<table border=\"1\" class=\"dataframe\">\n",
       "  <thead>\n",
       "    <tr style=\"text-align: right;\">\n",
       "      <th></th>\n",
       "      <th>timestamp</th>\n",
       "      <th>x</th>\n",
       "      <th>y</th>\n",
       "      <th>z</th>\n",
       "      <th>label</th>\n",
       "    </tr>\n",
       "  </thead>\n",
       "  <tbody>\n",
       "    <tr>\n",
       "      <th>count</th>\n",
       "      <td>2.839200e+04</td>\n",
       "      <td>28392.000000</td>\n",
       "      <td>28392.000000</td>\n",
       "      <td>28392.000000</td>\n",
       "      <td>28392.000000</td>\n",
       "    </tr>\n",
       "    <tr>\n",
       "      <th>mean</th>\n",
       "      <td>1.657094e+12</td>\n",
       "      <td>-0.766484</td>\n",
       "      <td>245.575514</td>\n",
       "      <td>41.893738</td>\n",
       "      <td>0.500000</td>\n",
       "    </tr>\n",
       "    <tr>\n",
       "      <th>std</th>\n",
       "      <td>3.278484e+05</td>\n",
       "      <td>6.895088</td>\n",
       "      <td>8.203194</td>\n",
       "      <td>7.872899</td>\n",
       "      <td>0.500009</td>\n",
       "    </tr>\n",
       "    <tr>\n",
       "      <th>min</th>\n",
       "      <td>1.657093e+12</td>\n",
       "      <td>-97.000000</td>\n",
       "      <td>169.000000</td>\n",
       "      <td>-48.000000</td>\n",
       "      <td>0.000000</td>\n",
       "    </tr>\n",
       "    <tr>\n",
       "      <th>25%</th>\n",
       "      <td>1.657093e+12</td>\n",
       "      <td>-2.000000</td>\n",
       "      <td>243.000000</td>\n",
       "      <td>38.000000</td>\n",
       "      <td>0.000000</td>\n",
       "    </tr>\n",
       "    <tr>\n",
       "      <th>50%</th>\n",
       "      <td>1.657094e+12</td>\n",
       "      <td>0.000000</td>\n",
       "      <td>246.000000</td>\n",
       "      <td>42.000000</td>\n",
       "      <td>0.500000</td>\n",
       "    </tr>\n",
       "    <tr>\n",
       "      <th>75%</th>\n",
       "      <td>1.657094e+12</td>\n",
       "      <td>1.000000</td>\n",
       "      <td>249.000000</td>\n",
       "      <td>45.000000</td>\n",
       "      <td>1.000000</td>\n",
       "    </tr>\n",
       "    <tr>\n",
       "      <th>max</th>\n",
       "      <td>1.657094e+12</td>\n",
       "      <td>190.000000</td>\n",
       "      <td>394.000000</td>\n",
       "      <td>352.000000</td>\n",
       "      <td>1.000000</td>\n",
       "    </tr>\n",
       "  </tbody>\n",
       "</table>\n",
       "</div>"
      ],
      "text/plain": [
       "          timestamp             x             y             z         label\n",
       "count  2.839200e+04  28392.000000  28392.000000  28392.000000  28392.000000\n",
       "mean   1.657094e+12     -0.766484    245.575514     41.893738      0.500000\n",
       "std    3.278484e+05      6.895088      8.203194      7.872899      0.500009\n",
       "min    1.657093e+12    -97.000000    169.000000    -48.000000      0.000000\n",
       "25%    1.657093e+12     -2.000000    243.000000     38.000000      0.000000\n",
       "50%    1.657094e+12      0.000000    246.000000     42.000000      0.500000\n",
       "75%    1.657094e+12      1.000000    249.000000     45.000000      1.000000\n",
       "max    1.657094e+12    190.000000    394.000000    352.000000      1.000000"
      ]
     },
     "execution_count": 16,
     "metadata": {},
     "output_type": "execute_result"
    }
   ],
   "source": [
    "df.describe()"
   ]
  },
  {
   "cell_type": "markdown",
   "id": "5da8c466",
   "metadata": {},
   "source": [
    "inisiasi script untuk mempermudah pembagian data"
   ]
  },
  {
   "cell_type": "code",
   "execution_count": 17,
   "id": "be4f42fb",
   "metadata": {},
   "outputs": [],
   "source": [
    "change1 = []\n",
    "change0 = []\n",
    "\n",
    "for i in df.index:\n",
    "#     timestamp = datetime.datetime.fromtimestamp((df['timestamp'][i]) / 1000) \n",
    "#     print('stop eating at', )\n",
    "#     val = timestamp.strftime(\"%X.%f\")[:-3]\n",
    "#     lst.append(val)\n",
    "    if df['label'][i] == 0:\n",
    "        data = [0, 246, 42]\n",
    "        change0.append(data)\n",
    "        data2 = [df['x'][i], df['y'][i], df['z'][i]]\n",
    "        change1.append(data2)\n",
    "    else:\n",
    "        data = [0,246,42]\n",
    "        change1.append(data)\n",
    "        data2 = [df['x'][i], df['y'][i], df['z'][i]]\n",
    "        change0.append(data2)\n",
    "        \n",
    "df_1 = pd.DataFrame(change0, columns=['x', 'y', 'z'])\n",
    "df_0 = pd.DataFrame(change1, columns=['x', 'y', 'z'])"
   ]
  },
  {
   "cell_type": "code",
   "execution_count": 18,
   "id": "d9346548",
   "metadata": {},
   "outputs": [
    {
     "data": {
      "image/png": "[encoded data removed]",
      "text/plain": [
       "<Figure size 1600x1600 with 3 Axes>"
      ]
     },
     "metadata": {},
     "output_type": "display_data"
    }
   ],
   "source": [
    "plt.figure(figsize=(16, 16))\n",
    "\n",
    "plt.subplot(3, 1, 1)\n",
    "plt.plot(time, df_0['x'], label = \"0x\")\n",
    "plt.gca().xaxis.set_major_formatter(dt.DateFormatter(\"%H:%M:%S.%f\"))\n",
    "\n",
    "plt.plot(time, df_1['x'], label = \"1x\")\n",
    "plt.gca().xaxis.set_major_formatter(dt.DateFormatter(\"%H:%M:%S.%f\"))\n",
    "\n",
    "# naming the x axis\n",
    "plt.xlabel('timestamp')\n",
    "# naming the y axis\n",
    "plt.ylabel('axis')\n",
    "  \n",
    "# show a legend on the plot\n",
    "plt.legend()\n",
    "\n",
    "plt.subplot(3, 1, 2)\n",
    "plt.plot(time, df_0['y'], label = \"0y\")\n",
    "plt.gca().xaxis.set_major_formatter(dt.DateFormatter(\"%H:%M:%S.%f\"))\n",
    "\n",
    "plt.plot(time, df_1['y'], label = \"1y\")\n",
    "plt.gca().xaxis.set_major_formatter(dt.DateFormatter(\"%H:%M:%S.%f\"))\n",
    "\n",
    "# naming the x axis\n",
    "plt.xlabel('timestamp')\n",
    "# naming the y axis\n",
    "plt.ylabel('axis')\n",
    "  \n",
    "# show a legend on the plot\n",
    "plt.legend()\n",
    "\n",
    "plt.subplot(3, 1, 3)\n",
    "plt.plot(time, df_0['z'], label = \"0z\")\n",
    "plt.gca().xaxis.set_major_formatter(dt.DateFormatter(\"%H:%M:%S.%f\"))\n",
    "\n",
    "plt.plot(time, df_1['z'], label = \"1z\")\n",
    "plt.gca().xaxis.set_major_formatter(dt.DateFormatter(\"%H:%M:%S.%f\"))\n",
    "\n",
    "# naming the x axis\n",
    "plt.xlabel('timestamp')\n",
    "# naming the y axis\n",
    "plt.ylabel('axis')\n",
    "  \n",
    "# show a legend on the plot\n",
    "plt.legend()\n",
    "  \n",
    "# function to show the plot\n",
    "plt.show()"
   ]
  },
  {
   "cell_type": "markdown",
   "id": "4d829a80",
   "metadata": {},
   "source": [
    "visualisasi data diatas merupakan plot dari data akselerasi tiap axix dibedakan untuk label yang merepresentasi tiap warna. Warna biru merupakan representasi label bernilai 0 dan orange merupakan representasi label bernilai 1."
   ]
  },
  {
   "cell_type": "markdown",
   "id": "9df1cf2a",
   "metadata": {},
   "source": [
    "### Modelling"
   ]
  },
  {
   "cell_type": "markdown",
   "id": "adcd4dee",
   "metadata": {},
   "source": [
    "Untuk melakukan prediksi makan ikan, kita dapat melakukan klasifikasi keadaan makan ikan berdasar akselerasi tiap axis"
   ]
  },
  {
   "cell_type": "code",
   "execution_count": 19,
   "id": "bb77f67d",
   "metadata": {},
   "outputs": [],
   "source": [
    "# import required libraries\n",
    "from sklearn.model_selection import train_test_split\n",
    "from sklearn.model_selection import cross_val_score\n",
    "from sklearn.metrics import confusion_matrix\n",
    "from sklearn.metrics import classification_report"
   ]
  },
  {
   "cell_type": "code",
   "execution_count": 20,
   "id": "e495e5d6",
   "metadata": {},
   "outputs": [
    {
     "data": {
      "text/html": [
       "<div>\n",
       "<style scoped>\n",
       "    .dataframe tbody tr th:only-of-type {\n",
       "        vertical-align: middle;\n",
       "    }\n",
       "\n",
       "    .dataframe tbody tr th {\n",
       "        vertical-align: top;\n",
       "    }\n",
       "\n",
       "    .dataframe thead th {\n",
       "        text-align: right;\n",
       "    }\n",
       "</style>\n",
       "<table border=\"1\" class=\"dataframe\">\n",
       "  <thead>\n",
       "    <tr style=\"text-align: right;\">\n",
       "      <th></th>\n",
       "      <th>timestamp</th>\n",
       "      <th>x</th>\n",
       "      <th>y</th>\n",
       "      <th>z</th>\n",
       "      <th>label</th>\n",
       "    </tr>\n",
       "  </thead>\n",
       "  <tbody>\n",
       "    <tr>\n",
       "      <th>count</th>\n",
       "      <td>2.839200e+04</td>\n",
       "      <td>28392.000000</td>\n",
       "      <td>28392.000000</td>\n",
       "      <td>28392.000000</td>\n",
       "      <td>28392.000000</td>\n",
       "    </tr>\n",
       "    <tr>\n",
       "      <th>mean</th>\n",
       "      <td>1.657094e+12</td>\n",
       "      <td>-0.766484</td>\n",
       "      <td>245.575514</td>\n",
       "      <td>41.893738</td>\n",
       "      <td>0.500000</td>\n",
       "    </tr>\n",
       "    <tr>\n",
       "      <th>std</th>\n",
       "      <td>3.278484e+05</td>\n",
       "      <td>6.895088</td>\n",
       "      <td>8.203194</td>\n",
       "      <td>7.872899</td>\n",
       "      <td>0.500009</td>\n",
       "    </tr>\n",
       "    <tr>\n",
       "      <th>min</th>\n",
       "      <td>1.657093e+12</td>\n",
       "      <td>-97.000000</td>\n",
       "      <td>169.000000</td>\n",
       "      <td>-48.000000</td>\n",
       "      <td>0.000000</td>\n",
       "    </tr>\n",
       "    <tr>\n",
       "      <th>25%</th>\n",
       "      <td>1.657093e+12</td>\n",
       "      <td>-2.000000</td>\n",
       "      <td>243.000000</td>\n",
       "      <td>38.000000</td>\n",
       "      <td>0.000000</td>\n",
       "    </tr>\n",
       "    <tr>\n",
       "      <th>50%</th>\n",
       "      <td>1.657094e+12</td>\n",
       "      <td>0.000000</td>\n",
       "      <td>246.000000</td>\n",
       "      <td>42.000000</td>\n",
       "      <td>0.500000</td>\n",
       "    </tr>\n",
       "    <tr>\n",
       "      <th>75%</th>\n",
       "      <td>1.657094e+12</td>\n",
       "      <td>1.000000</td>\n",
       "      <td>249.000000</td>\n",
       "      <td>45.000000</td>\n",
       "      <td>1.000000</td>\n",
       "    </tr>\n",
       "    <tr>\n",
       "      <th>max</th>\n",
       "      <td>1.657094e+12</td>\n",
       "      <td>190.000000</td>\n",
       "      <td>394.000000</td>\n",
       "      <td>352.000000</td>\n",
       "      <td>1.000000</td>\n",
       "    </tr>\n",
       "  </tbody>\n",
       "</table>\n",
       "</div>"
      ],
      "text/plain": [
       "          timestamp             x             y             z         label\n",
       "count  2.839200e+04  28392.000000  28392.000000  28392.000000  28392.000000\n",
       "mean   1.657094e+12     -0.766484    245.575514     41.893738      0.500000\n",
       "std    3.278484e+05      6.895088      8.203194      7.872899      0.500009\n",
       "min    1.657093e+12    -97.000000    169.000000    -48.000000      0.000000\n",
       "25%    1.657093e+12     -2.000000    243.000000     38.000000      0.000000\n",
       "50%    1.657094e+12      0.000000    246.000000     42.000000      0.500000\n",
       "75%    1.657094e+12      1.000000    249.000000     45.000000      1.000000\n",
       "max    1.657094e+12    190.000000    394.000000    352.000000      1.000000"
      ]
     },
     "execution_count": 20,
     "metadata": {},
     "output_type": "execute_result"
    }
   ],
   "source": [
    "df.describe()"
   ]
  },
  {
   "cell_type": "markdown",
   "id": "a74060e5",
   "metadata": {},
   "source": [
    "Kita pisahkan fitur yang akan digunakan yaitu axis dan label dengan cara sebagai berikut"
   ]
  },
  {
   "cell_type": "code",
   "execution_count": 21,
   "id": "9189d5a6",
   "metadata": {},
   "outputs": [],
   "source": [
    "x = df.iloc[:,1:-2]"
   ]
  },
  {
   "cell_type": "code",
   "execution_count": 22,
   "id": "d6206ecb",
   "metadata": {},
   "outputs": [],
   "source": [
    "# y = df.iloc[:, [-2]]\n",
    "y = df['label']"
   ]
  },
  {
   "cell_type": "markdown",
   "id": "eadac575",
   "metadata": {},
   "source": [
    "Pisahkan data menjadi data training dan data testing dengan cara sebagai berikut"
   ]
  },
  {
   "cell_type": "code",
   "execution_count": 27,
   "id": "89cbc7e3",
   "metadata": {},
   "outputs": [],
   "source": [
    "xtrain, xtest, ytrain, ytest = train_test_split(x, y, test_size=0.20)"
   ]
  },
  {
   "cell_type": "code",
   "execution_count": 28,
   "id": "a840cc90",
   "metadata": {},
   "outputs": [
    {
     "data": {
      "text/plain": [
       "((22713, 3), (22713,))"
      ]
     },
     "execution_count": 28,
     "metadata": {},
     "output_type": "execute_result"
    }
   ],
   "source": [
    "xtrain.shape, ytrain.shape"
   ]
  },
  {
   "cell_type": "markdown",
   "id": "15a8efed",
   "metadata": {},
   "source": [
    "Lalu kita dapat menginisiasi model dan melakukan training dengan data fitur akselerasi tiap axis"
   ]
  },
  {
   "cell_type": "code",
   "execution_count": 30,
   "id": "5b55ac83",
   "metadata": {},
   "outputs": [],
   "source": [
    "# Initiate the base model and fit the data into the model\n",
    "from sklearn.neighbors import KNeighborsClassifier\n",
    "from sklearn import metrics"
   ]
  },
  {
   "cell_type": "markdown",
   "id": "65b4599e",
   "metadata": {},
   "source": [
    "Digunakan KNN dengan besaran K = 3 sebagai insiasi awal untuk melihat akurasi"
   ]
  },
  {
   "cell_type": "code",
   "execution_count": 33,
   "id": "d10f2987",
   "metadata": {},
   "outputs": [
    {
     "name": "stdout",
     "output_type": "stream",
     "text": [
      "0.7652755766860363\n"
     ]
    }
   ],
   "source": [
    "classifier = KNeighborsClassifier(n_neighbors=3)\n",
    "classifier.fit(xtrain, ytrain)\n",
    "ypred = classifier.predict(xtest)\n",
    "scores = metrics.accuracy_score(ytest,ypred)\n",
    "print(scores)"
   ]
  },
  {
   "cell_type": "code",
   "execution_count": 34,
   "id": "14ba2390",
   "metadata": {},
   "outputs": [
    {
     "name": "stdout",
     "output_type": "stream",
     "text": [
      "Confusion Matrix:\n",
      "[[2184  647]\n",
      " [ 686 2162]]\n",
      "Classification Report:\n",
      "              precision    recall  f1-score   support\n",
      "\n",
      "           0       0.76      0.77      0.77      2831\n",
      "           1       0.77      0.76      0.76      2848\n",
      "\n",
      "    accuracy                           0.77      5679\n",
      "   macro avg       0.77      0.77      0.77      5679\n",
      "weighted avg       0.77      0.77      0.77      5679\n",
      "\n"
     ]
    }
   ],
   "source": [
    "result = metrics.confusion_matrix(ytest, ypred)\n",
    "print(\"Confusion Matrix:\")\n",
    "print(result)\n",
    "result1 = metrics.classification_report(ytest, ypred)\n",
    "print(\"Classification Report:\",)\n",
    "print (result1)"
   ]
  },
  {
   "cell_type": "markdown",
   "id": "663cb407",
   "metadata": {},
   "source": [
    "Besar skor dari hasil training dengan menggunakan K = 3 memberikan hasil dengan skor diatas, nilai dari akurasi dan skor f1 memberikan hasil yang cukup baik dan representatif dengan data training sebesar 80% data keseluruhan"
   ]
  },
  {
   "cell_type": "markdown",
   "id": "c0919daf",
   "metadata": {},
   "source": [
    "untuk memaksimalkan hasil dari training menggunakan KNN, kita dapat melihat tren training untuk besaran masing-masing nilai K, dengan dilakukan sebagai berikut"
   ]
  },
  {
   "cell_type": "code",
   "execution_count": 35,
   "id": "306448f9",
   "metadata": {},
   "outputs": [],
   "source": [
    "range_k = range(1,21)\n",
    "scores = {}\n",
    "scores_list = []\n",
    "\n",
    "for k in range_k:\n",
    "    classifier = KNeighborsClassifier(n_neighbors=k)\n",
    "    classifier.fit(xtrain, ytrain)\n",
    "    ypred = classifier.predict(xtest)\n",
    "    scores[k] = metrics.accuracy_score(ytest,ypred)\n",
    "    scores_list.append(metrics.accuracy_score(ytest,ypred))"
   ]
  },
  {
   "cell_type": "code",
   "execution_count": 36,
   "id": "2f5f0767",
   "metadata": {},
   "outputs": [
    {
     "data": {
      "text/plain": [
       "Text(0, 0.5, 'Accuracy')"
      ]
     },
     "execution_count": 36,
     "metadata": {},
     "output_type": "execute_result"
    },
    {
     "data": {
      "image/png": "[encoded data removed]",
      "text/plain": [
       "<Figure size 640x480 with 1 Axes>"
      ]
     },
     "metadata": {},
     "output_type": "display_data"
    }
   ],
   "source": [
    "plt.plot(range_k,scores_list)\n",
    "plt.xlabel(\"Value of K\")\n",
    "plt.ylabel(\"Accuracy\")"
   ]
  },
  {
   "cell_type": "markdown",
   "id": "301045fc",
   "metadata": {},
   "source": [
    "Dari hasil pelatihan dengan nilai K incremental dari 1 sampai 20, dapat dilihat besaran K akan stagnan ketika mencapai besaran K = 7. Dengan demikian dapat digunakan K sebesar 7"
   ]
  },
  {
   "cell_type": "code",
   "execution_count": 40,
   "id": "cb2be91c",
   "metadata": {},
   "outputs": [
    {
     "name": "stdout",
     "output_type": "stream",
     "text": [
      "0.7906321535481599\n"
     ]
    }
   ],
   "source": [
    "classifier = KNeighborsClassifier(n_neighbors=7)\n",
    "classifier.fit(xtrain, ytrain)\n",
    "ypred = classifier.predict(xtest)\n",
    "scores = metrics.accuracy_score(ytest,ypred)\n",
    "print(scores)"
   ]
  },
  {
   "cell_type": "code",
   "execution_count": 41,
   "id": "d1bb9787",
   "metadata": {},
   "outputs": [
    {
     "name": "stdout",
     "output_type": "stream",
     "text": [
      "Confusion Matrix:\n",
      "[[2294  537]\n",
      " [ 652 2196]]\n",
      "Classification Report:\n",
      "              precision    recall  f1-score   support\n",
      "\n",
      "           0       0.78      0.81      0.79      2831\n",
      "           1       0.80      0.77      0.79      2848\n",
      "\n",
      "    accuracy                           0.79      5679\n",
      "   macro avg       0.79      0.79      0.79      5679\n",
      "weighted avg       0.79      0.79      0.79      5679\n",
      "\n"
     ]
    }
   ],
   "source": [
    "result = metrics.confusion_matrix(ytest, ypred)\n",
    "print(\"Confusion Matrix:\")\n",
    "print(result)\n",
    "result1 = metrics.classification_report(ytest, ypred)\n",
    "print(\"Classification Report:\",)\n",
    "print (result1)"
   ]
  },
  {
   "cell_type": "markdown",
   "id": "2678b560",
   "metadata": {},
   "source": [
    "Besar skor dari hasil training dengan menggunakan K = 7 memberikan hasil dengan skor diatas, nilai dari akurasi dan skor f1 memberikan hasil yang cukup baik dan representatif dengan data training sebesar 80% data keseluruhan. Nilai akurasi sebesar 0,79 dengan nilai precision dan recall untuk masing masing kelas berada di kisaran 0,77 hingga 0,81. "
   ]
  },
  {
   "cell_type": "markdown",
   "id": "cf1f408e",
   "metadata": {},
   "source": [
    "### menyimpan model"
   ]
  },
  {
   "cell_type": "code",
   "execution_count": 42,
   "id": "9995b981",
   "metadata": {},
   "outputs": [
    {
     "data": {
      "text/plain": [
       "['model.sav']"
      ]
     },
     "execution_count": 42,
     "metadata": {},
     "output_type": "execute_result"
    }
   ],
   "source": [
    "import joblib\n",
    "filename = 'model.sav'\n",
    "joblib.dump(classifier, filename)"
   ]
  },
  {
   "cell_type": "markdown",
   "id": "db95e06d",
   "metadata": {},
   "source": [
    "### pengembangan lanjutan"
   ]
  },
  {
   "cell_type": "markdown",
   "id": "700a44f7",
   "metadata": {},
   "source": [
    "dengan data yang diperoleh untuk timestamp tersebut merupakan data yang cukup representatif, kontekstual data di lapangan mungkin akan memberikan wawasan baru terkait beberapa aspek. Data akselerasi relatif akan lebih representatif jika dapat diperoleh integral 2 kali dari akselerasi yaitu perubahan posisi relatif dimana vibrasi dari alat akan lebih terbaca jika mengacu pada posisi relatifnya. Pengamatan data di domain frekuensi untuk posisi relatif juga akan menambah wawasan terkait frekeunsi tertentu yang dapat mencirikan label, misal di rentang frekuensi tertentu terdapat ciri spesifik ikan sedang makan atau tidak. \n",
    "\n",
    "Percobaan terhadap metode yang saya utarakan diatas telah dilakukan, namun karena keterbatasan dari wawasan data yang saya miliki, nilai dari integral 2 kali dari percepatan relatif tidak menunjukan hasil yang relevan."
   ]
  }
 ],
 "metadata": {
  "kernelspec": {
   "display_name": "Python 3 (ipykernel)",
   "language": "python",
   "name": "python3"
  },
  "language_info": {
   "codemirror_mode": {
    "name": "ipython",
    "version": 3
   },
   "file_extension": ".py",
   "mimetype": "text/x-python",
   "name": "python",
   "nbconvert_exporter": "python",
   "pygments_lexer": "ipython3",
   "version": "3.10.6"
  }
 },
 "nbformat": 4,
 "nbformat_minor": 5
}
